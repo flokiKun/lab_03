{
 "metadata": {
  "language_info": {
   "codemirror_mode": {
    "name": "ipython",
    "version": 3
   },
   "file_extension": ".py",
   "mimetype": "text/x-python",
   "name": "python",
   "nbconvert_exporter": "python",
   "pygments_lexer": "ipython3",
   "version": "3.8.3-final"
  },
  "orig_nbformat": 2,
  "kernelspec": {
   "name": "Python 3.8.3 32-bit",
   "display_name": "Python 3.8.3 32-bit",
   "metadata": {
    "interpreter": {
     "hash": "8b546bf8489b487ce050cce6403dc04723cfae8d0fe5f4c1ac767c0fd7f5390b"
    }
   }
  }
 },
 "nbformat": 4,
 "nbformat_minor": 2,
 "cells": [
  {
   "source": [
    "# Лабораторная №3 Распознование образов.\n",
    "## Выполнил Старостин В.Р. Группа: НФИ-03-19\n",
    "\n",
    "__Примечание для теста__ рисовать картинки bmp 32x32 в BW 1 битном канале и рисовать максимально большими."
   ],
   "cell_type": "markdown",
   "metadata": {}
  },
  {
   "cell_type": "code",
   "execution_count": 1,
   "metadata": {
    "tags": []
   },
   "outputs": [],
   "source": [
    "import os\n",
    "import matplotlib.pyplot as plt\n",
    "import numpy as np\n",
    "import operator\n",
    "from PIL import Image\n",
    "from IPython.display import display, Markdown\n",
    "\n",
    "%matplotlib inline\n",
    "\n",
    "core_dict = {x:0 for x in range(10)}\n",
    "\n",
    "def mahalanobis(l1,l2,VI):\n",
    "    E = np.eye(VI.shape[0])\n",
    "    delta = np.absolute(l1 - l2)\n",
    "    a = np.transpose(delta)\n",
    "    b = np.linalg.inv(VI + E)\n",
    "    res = np.dot(np.dot(a, b), delta)\n",
    "    return np.sqrt(res)\n",
    "\n",
    "\n",
    "def classify(arr1,arr2):\n",
    "    res = []\n",
    "    for l1,l2 in zip(arr1,arr2):\n",
    "        VI = np.cov((l1,l2), rowvar=0)\n",
    "        res.append(mahalanobis(l1,l2,VI))\n",
    "    \n",
    "    return np.mean(res)\n",
    "\n",
    "\n",
    "def core(cl:str):\n",
    "    mat_sum = np.zeros((32,32))\n",
    "    dir_list = os.listdir(f'classes/{cl}')\n",
    "    n = len(dir_list)\n",
    "    for img in dir_list:\n",
    "        img_arr = np.asarray(Image.open(f'classes/{cl}/{img}'))\n",
    "        mat_sum += img_arr\n",
    "    return mat_sum/n\n",
    "\n",
    "\n",
    "def recognize(img):\n",
    "    global core_dict\n",
    "    plt.axis('off')\n",
    "    plt.imshow(img,cmap='gray',interpolation='none')\n",
    "    predict_dict_list = {x:0 for x in range(10)}\n",
    "    # Calc Mahahahaahlanobis dist\n",
    "    for d in os.listdir('classes'):\n",
    "        print(f'Calc {d} for figure')\n",
    "        print(f'Core for {d} is:')\n",
    "        class_core = core(d)\n",
    "        core_dict[int(d)] = class_core\n",
    "        predict_dict_list[int(d)] = classify(im_0,class_core)\n",
    "        print(f'Mahalanobis dist for {d} is {round(predict_dict_list[int(d)],2)}')\n",
    "\n",
    "    detect = min(predict_dict_list.items(), key=operator.itemgetter(1))[0]\n",
    "    display(Markdown(f'## I think that the figure is {detect}'))\n",
    "\n"
   ]
  },
  {
   "cell_type": "code",
   "execution_count": 2,
   "metadata": {},
   "outputs": [
    {
     "output_type": "stream",
     "name": "stdout",
     "text": [
      "Calc 0 for figure\n",
      "Core for 0 is:\n",
      "Mahalanobis dist for 0 is 1.87\n",
      "Calc 1 for figure\n",
      "Core for 1 is:\n",
      "Mahalanobis dist for 1 is 1.14\n",
      "Calc 2 for figure\n",
      "Core for 2 is:\n",
      "Mahalanobis dist for 2 is 1.7\n",
      "Calc 3 for figure\n",
      "Core for 3 is:\n",
      "Mahalanobis dist for 3 is 1.76\n",
      "Calc 4 for figure\n",
      "Core for 4 is:\n",
      "Mahalanobis dist for 4 is 2.12\n",
      "Calc 5 for figure\n",
      "Core for 5 is:\n",
      "Mahalanobis dist for 5 is 1.58\n",
      "Calc 6 for figure\n",
      "Core for 6 is:\n",
      "Mahalanobis dist for 6 is 1.98\n",
      "Calc 7 for figure\n",
      "Core for 7 is:\n",
      "Mahalanobis dist for 7 is 1.54\n",
      "Calc 8 for figure\n",
      "Core for 8 is:\n",
      "Mahalanobis dist for 8 is 2.27\n",
      "Calc 9 for figure\n",
      "Core for 9 is:\n",
      "Mahalanobis dist for 9 is 1.95\n"
     ]
    },
    {
     "output_type": "display_data",
     "data": {
      "text/plain": "<IPython.core.display.Markdown object>",
      "text/markdown": "## I think that the figure is 1"
     },
     "metadata": {}
    },
    {
     "output_type": "display_data",
     "data": {
      "text/plain": "<Figure size 432x288 with 1 Axes>",
      "image/svg+xml": "<?xml version=\"1.0\" encoding=\"utf-8\" standalone=\"no\"?>\r\n<!DOCTYPE svg PUBLIC \"-//W3C//DTD SVG 1.1//EN\"\r\n  \"http://www.w3.org/Graphics/SVG/1.1/DTD/svg11.dtd\">\r\n<!-- Created with matplotlib (https://matplotlib.org/) -->\r\n<svg height=\"231.84pt\" version=\"1.1\" viewBox=\"0 0 231.84 231.84\" width=\"231.84pt\" xmlns=\"http://www.w3.org/2000/svg\" xmlns:xlink=\"http://www.w3.org/1999/xlink\">\r\n <metadata>\r\n  <rdf:RDF xmlns:cc=\"http://creativecommons.org/ns#\" xmlns:dc=\"http://purl.org/dc/elements/1.1/\" xmlns:rdf=\"http://www.w3.org/1999/02/22-rdf-syntax-ns#\">\r\n   <cc:Work>\r\n    <dc:type rdf:resource=\"http://purl.org/dc/dcmitype/StillImage\"/>\r\n    <dc:date>2020-10-12T19:21:05.269065</dc:date>\r\n    <dc:format>image/svg+xml</dc:format>\r\n    <dc:creator>\r\n     <cc:Agent>\r\n      <dc:title>Matplotlib v3.3.2, https://matplotlib.org/</dc:title>\r\n     </cc:Agent>\r\n    </dc:creator>\r\n   </cc:Work>\r\n  </rdf:RDF>\r\n </metadata>\r\n <defs>\r\n  <style type=\"text/css\">*{stroke-linecap:butt;stroke-linejoin:round;}</style>\r\n </defs>\r\n <g id=\"figure_1\">\r\n  <g id=\"patch_1\">\r\n   <path d=\"M 0 231.84 \r\nL 231.84 231.84 \r\nL 231.84 0 \r\nL 0 0 \r\nz\r\n\" style=\"fill:none;\"/>\r\n  </g>\r\n  <g id=\"axes_1\">\r\n   <g clip-path=\"url(#p1091e1e5ac)\">\r\n    <image height=\"32\" id=\"image55c2f6ab13\" style=\"image-rendering:crisp-edges;image-rendering:pixelated\" transform=\"matrix(6.8125 0 0 6.8125 7.2 6.64)\" width=\"32\" xlink:href=\"data:image/png;base64,\r\niVBORw0KGgoAAAANSUhEUgAAACAAAAAgCAYAAABzenr0AAAAbUlEQVR4nO3XsRLAIAgD0NDz/3+ZjvU8BxvoZWiyKw9kMQAkhLmUxQFgVA5nPsOLCOoOegJz8UoowK44C3r1BF1dz5Ev4TFg1z27eBTgi+IlQFeOl7Cr4zXyCRhggAEGGGCAAQbIAYG/f07lgBsduhQ9hzu5jAAAAABJRU5ErkJggg==\"/>\r\n   </g>\r\n  </g>\r\n </g>\r\n <defs>\r\n  <clipPath id=\"p1091e1e5ac\">\r\n   <rect height=\"217.44\" width=\"217.44\" x=\"7.2\" y=\"7.2\"/>\r\n  </clipPath>\r\n </defs>\r\n</svg>\r\n",
      "image/png": "[encoded data removed]"
     },
     "metadata": {
      "needs_background": "light"
     }
    }
   ],
   "source": [
    "im_0 = np.asarray(Image.open('tests/test_1.bmp'))\n",
    "recognize(im_0)"
   ]
  },
  {
   "cell_type": "code",
   "execution_count": 3,
   "metadata": {},
   "outputs": [
    {
     "output_type": "stream",
     "name": "stdout",
     "text": [
      "Calc 0 for figure\n",
      "Core for 0 is:\n",
      "Mahalanobis dist for 0 is 2.18\n",
      "Calc 1 for figure\n",
      "Core for 1 is:\n",
      "Mahalanobis dist for 1 is 1.87\n",
      "Calc 2 for figure\n",
      "Core for 2 is:\n",
      "Mahalanobis dist for 2 is 1.52\n",
      "Calc 3 for figure\n",
      "Core for 3 is:\n",
      "Mahalanobis dist for 3 is 1.93\n",
      "Calc 4 for figure\n",
      "Core for 4 is:\n",
      "Mahalanobis dist for 4 is 2.03\n",
      "Calc 5 for figure\n",
      "Core for 5 is:\n",
      "Mahalanobis dist for 5 is 2.21\n",
      "Calc 6 for figure\n",
      "Core for 6 is:\n",
      "Mahalanobis dist for 6 is 2.23\n",
      "Calc 7 for figure\n",
      "Core for 7 is:\n",
      "Mahalanobis dist for 7 is 1.92\n",
      "Calc 8 for figure\n",
      "Core for 8 is:\n",
      "Mahalanobis dist for 8 is 2.29\n",
      "Calc 9 for figure\n",
      "Core for 9 is:\n",
      "Mahalanobis dist for 9 is 2.23\n"
     ]
    },
    {
     "output_type": "display_data",
     "data": {
      "text/plain": "<IPython.core.display.Markdown object>",
      "text/markdown": "## I think that the figure is 2"
     },
     "metadata": {}
    },
    {
     "output_type": "display_data",
     "data": {
      "text/plain": "<Figure size 432x288 with 1 Axes>",
      "image/svg+xml": "<?xml version=\"1.0\" encoding=\"utf-8\" standalone=\"no\"?>\r\n<!DOCTYPE svg PUBLIC \"-//W3C//DTD SVG 1.1//EN\"\r\n  \"http://www.w3.org/Graphics/SVG/1.1/DTD/svg11.dtd\">\r\n<!-- Created with matplotlib (https://matplotlib.org/) -->\r\n<svg height=\"231.84pt\" version=\"1.1\" viewBox=\"0 0 231.84 231.84\" width=\"231.84pt\" xmlns=\"http://www.w3.org/2000/svg\" xmlns:xlink=\"http://www.w3.org/1999/xlink\">\r\n <metadata>\r\n  <rdf:RDF xmlns:cc=\"http://creativecommons.org/ns#\" xmlns:dc=\"http://purl.org/dc/elements/1.1/\" xmlns:rdf=\"http://www.w3.org/1999/02/22-rdf-syntax-ns#\">\r\n   <cc:Work>\r\n    <dc:type rdf:resource=\"http://purl.org/dc/dcmitype/StillImage\"/>\r\n    <dc:date>2020-10-12T19:21:05.563133</dc:date>\r\n    <dc:format>image/svg+xml</dc:format>\r\n    <dc:creator>\r\n     <cc:Agent>\r\n      <dc:title>Matplotlib v3.3.2, https://matplotlib.org/</dc:title>\r\n     </cc:Agent>\r\n    </dc:creator>\r\n   </cc:Work>\r\n  </rdf:RDF>\r\n </metadata>\r\n <defs>\r\n  <style type=\"text/css\">*{stroke-linecap:butt;stroke-linejoin:round;}</style>\r\n </defs>\r\n <g id=\"figure_1\">\r\n  <g id=\"patch_1\">\r\n   <path d=\"M 0 231.84 \r\nL 231.84 231.84 \r\nL 231.84 0 \r\nL 0 0 \r\nz\r\n\" style=\"fill:none;\"/>\r\n  </g>\r\n  <g id=\"axes_1\">\r\n   <g clip-path=\"url(#p99234d44ce)\">\r\n    <image height=\"32\" id=\"image4d43a5013e\" style=\"image-rendering:crisp-edges;image-rendering:pixelated\" transform=\"matrix(6.8125 0 0 6.8125 7.2 6.64)\" width=\"32\" xlink:href=\"data:image/png;base64,\r\niVBORw0KGgoAAAANSUhEUgAAACAAAAAgCAYAAABzenr0AAAAwklEQVR4nMXXSw7AIAgEUGh6/yvbVROTojIMULY2zvPXqIrIkB/rXjWMgblUNQRQMWYADWcwHwAbjkKWS+DtiAUfAadRzO0RzMWEs98fAR21BWRuyBAARaTvAaSis/UBRP9o0X7MY4gimL1CL4EVjgyAAmSckjBgFY4uXwiQFR4CZIbDgOxwCFAR7gZUhbsAleFHQHX4FtARvgR0hZuAznAR4lac9XApfRd4EK4ZyKp5cC+GBrCPFvNtmF27S0sLYFcPynBaRqOQBvUAAAAASUVORK5CYII=\"/>\r\n   </g>\r\n  </g>\r\n </g>\r\n <defs>\r\n  <clipPath id=\"p99234d44ce\">\r\n   <rect height=\"217.44\" width=\"217.44\" x=\"7.2\" y=\"7.2\"/>\r\n  </clipPath>\r\n </defs>\r\n</svg>\r\n",
      "image/png": "[encoded data removed]"
     },
     "metadata": {
      "needs_background": "light"
     }
    }
   ],
   "source": [
    "im_0 = np.asarray(Image.open('tests/test_2.bmp'))\n",
    "recognize(im_0)"
   ]
  },
  {
   "cell_type": "code",
   "execution_count": 7,
   "metadata": {},
   "outputs": [
    {
     "output_type": "stream",
     "name": "stdout",
     "text": [
      "Calc 0 for figure\n",
      "Core for 0 is:\n",
      "Mahalanobis dist for 0 is 1.85\n",
      "Calc 1 for figure\n",
      "Core for 1 is:\n",
      "Mahalanobis dist for 1 is 1.89\n",
      "Calc 2 for figure\n",
      "Core for 2 is:\n",
      "Mahalanobis dist for 2 is 1.82\n",
      "Calc 3 for figure\n",
      "Core for 3 is:\n",
      "Mahalanobis dist for 3 is 1.43\n",
      "Calc 4 for figure\n",
      "Core for 4 is:\n",
      "Mahalanobis dist for 4 is 1.52\n",
      "Calc 5 for figure\n",
      "Core for 5 is:\n",
      "Mahalanobis dist for 5 is 1.69\n",
      "Calc 6 for figure\n",
      "Core for 6 is:\n",
      "Mahalanobis dist for 6 is 1.89\n",
      "Calc 7 for figure\n",
      "Core for 7 is:\n",
      "Mahalanobis dist for 7 is 1.68\n",
      "Calc 8 for figure\n",
      "Core for 8 is:\n",
      "Mahalanobis dist for 8 is 1.74\n",
      "Calc 9 for figure\n",
      "Core for 9 is:\n",
      "Mahalanobis dist for 9 is 1.75\n"
     ]
    },
    {
     "output_type": "display_data",
     "data": {
      "text/plain": "<IPython.core.display.Markdown object>",
      "text/markdown": "## I think that the figure is 3"
     },
     "metadata": {}
    },
    {
     "output_type": "display_data",
     "data": {
      "text/plain": "<Figure size 432x288 with 1 Axes>",
      "image/svg+xml": "<?xml version=\"1.0\" encoding=\"utf-8\" standalone=\"no\"?>\r\n<!DOCTYPE svg PUBLIC \"-//W3C//DTD SVG 1.1//EN\"\r\n  \"http://www.w3.org/Graphics/SVG/1.1/DTD/svg11.dtd\">\r\n<!-- Created with matplotlib (https://matplotlib.org/) -->\r\n<svg height=\"231.84pt\" version=\"1.1\" viewBox=\"0 0 231.84 231.84\" width=\"231.84pt\" xmlns=\"http://www.w3.org/2000/svg\" xmlns:xlink=\"http://www.w3.org/1999/xlink\">\r\n <metadata>\r\n  <rdf:RDF xmlns:cc=\"http://creativecommons.org/ns#\" xmlns:dc=\"http://purl.org/dc/elements/1.1/\" xmlns:rdf=\"http://www.w3.org/1999/02/22-rdf-syntax-ns#\">\r\n   <cc:Work>\r\n    <dc:type rdf:resource=\"http://purl.org/dc/dcmitype/StillImage\"/>\r\n    <dc:date>2020-10-12T19:22:17.447780</dc:date>\r\n    <dc:format>image/svg+xml</dc:format>\r\n    <dc:creator>\r\n     <cc:Agent>\r\n      <dc:title>Matplotlib v3.3.2, https://matplotlib.org/</dc:title>\r\n     </cc:Agent>\r\n    </dc:creator>\r\n   </cc:Work>\r\n  </rdf:RDF>\r\n </metadata>\r\n <defs>\r\n  <style type=\"text/css\">*{stroke-linecap:butt;stroke-linejoin:round;}</style>\r\n </defs>\r\n <g id=\"figure_1\">\r\n  <g id=\"patch_1\">\r\n   <path d=\"M 0 231.84 \r\nL 231.84 231.84 \r\nL 231.84 0 \r\nL 0 0 \r\nz\r\n\" style=\"fill:none;\"/>\r\n  </g>\r\n  <g id=\"axes_1\">\r\n   <g clip-path=\"url(#p2e8a9efcc4)\">\r\n    <image height=\"32\" id=\"image39293c055c\" style=\"image-rendering:crisp-edges;image-rendering:pixelated\" transform=\"matrix(6.8125 0 0 6.8125 7.2 6.64)\" width=\"32\" xlink:href=\"data:image/png;base64,\r\niVBORw0KGgoAAAANSUhEUgAAACAAAAAgCAYAAABzenr0AAAAw0lEQVR4nN1XQQoEMQiLy/7/y93TwDK00yRVhMlZTKrRtgFgoBGfTnIA+DJBY2hFigg+FpsWqOSqkMcWnJCzWFZgRb46lRp/QTLhU7KIkHovC3CSpwpgcRe689FyDKtOfEf7IkoXoI5uqoAZ+a6V1Cp2iFlYAlhCxsgpFXCIL7xvCgDNE5YAd+9PcyHpSeaMIJDYArci7zJh6XugCu0Cppvw39HV74Ly2/BYAJvUvRFLfkYA37p2E04FnBov9W8I1E7FDyXqO1SL8nmpAAAAAElFTkSuQmCC\"/>\r\n   </g>\r\n  </g>\r\n </g>\r\n <defs>\r\n  <clipPath id=\"p2e8a9efcc4\">\r\n   <rect height=\"217.44\" width=\"217.44\" x=\"7.2\" y=\"7.2\"/>\r\n  </clipPath>\r\n </defs>\r\n</svg>\r\n",
      "image/png": "[encoded data removed]"
     },
     "metadata": {
      "needs_background": "light"
     }
    }
   ],
   "source": [
    "im_0 = np.asarray(Image.open('tests/test_3.bmp'))\n",
    "recognize(im_0)"
   ]
  },
  {
   "cell_type": "code",
   "execution_count": 5,
   "metadata": {},
   "outputs": [
    {
     "output_type": "stream",
     "name": "stdout",
     "text": [
      "Calc 0 for figure\n",
      "Core for 0 is:\n",
      "Mahalanobis dist for 0 is 1.64\n",
      "Calc 1 for figure\n",
      "Core for 1 is:\n",
      "Mahalanobis dist for 1 is 1.97\n",
      "Calc 2 for figure\n",
      "Core for 2 is:\n",
      "Mahalanobis dist for 2 is 1.9\n",
      "Calc 3 for figure\n",
      "Core for 3 is:\n",
      "Mahalanobis dist for 3 is 1.85\n",
      "Calc 4 for figure\n",
      "Core for 4 is:\n",
      "Mahalanobis dist for 4 is 1.71\n",
      "Calc 5 for figure\n",
      "Core for 5 is:\n",
      "Mahalanobis dist for 5 is 1.9\n",
      "Calc 6 for figure\n",
      "Core for 6 is:\n",
      "Mahalanobis dist for 6 is 1.41\n",
      "Calc 7 for figure\n",
      "Core for 7 is:\n",
      "Mahalanobis dist for 7 is 1.84\n",
      "Calc 8 for figure\n",
      "Core for 8 is:\n",
      "Mahalanobis dist for 8 is 1.46\n",
      "Calc 9 for figure\n",
      "Core for 9 is:\n",
      "Mahalanobis dist for 9 is 1.39\n"
     ]
    },
    {
     "output_type": "display_data",
     "data": {
      "text/plain": "<IPython.core.display.Markdown object>",
      "text/markdown": "## I think that the figure is 9"
     },
     "metadata": {}
    },
    {
     "output_type": "display_data",
     "data": {
      "text/plain": "<Figure size 432x288 with 1 Axes>",
      "image/svg+xml": "<?xml version=\"1.0\" encoding=\"utf-8\" standalone=\"no\"?>\r\n<!DOCTYPE svg PUBLIC \"-//W3C//DTD SVG 1.1//EN\"\r\n  \"http://www.w3.org/Graphics/SVG/1.1/DTD/svg11.dtd\">\r\n<!-- Created with matplotlib (https://matplotlib.org/) -->\r\n<svg height=\"231.84pt\" version=\"1.1\" viewBox=\"0 0 231.84 231.84\" width=\"231.84pt\" xmlns=\"http://www.w3.org/2000/svg\" xmlns:xlink=\"http://www.w3.org/1999/xlink\">\r\n <metadata>\r\n  <rdf:RDF xmlns:cc=\"http://creativecommons.org/ns#\" xmlns:dc=\"http://purl.org/dc/elements/1.1/\" xmlns:rdf=\"http://www.w3.org/1999/02/22-rdf-syntax-ns#\">\r\n   <cc:Work>\r\n    <dc:type rdf:resource=\"http://purl.org/dc/dcmitype/StillImage\"/>\r\n    <dc:date>2020-10-12T19:21:06.133261</dc:date>\r\n    <dc:format>image/svg+xml</dc:format>\r\n    <dc:creator>\r\n     <cc:Agent>\r\n      <dc:title>Matplotlib v3.3.2, https://matplotlib.org/</dc:title>\r\n     </cc:Agent>\r\n    </dc:creator>\r\n   </cc:Work>\r\n  </rdf:RDF>\r\n </metadata>\r\n <defs>\r\n  <style type=\"text/css\">*{stroke-linecap:butt;stroke-linejoin:round;}</style>\r\n </defs>\r\n <g id=\"figure_1\">\r\n  <g id=\"patch_1\">\r\n   <path d=\"M 0 231.84 \r\nL 231.84 231.84 \r\nL 231.84 0 \r\nL 0 0 \r\nz\r\n\" style=\"fill:none;\"/>\r\n  </g>\r\n  <g id=\"axes_1\">\r\n   <g clip-path=\"url(#pe7b6629eee)\">\r\n    <image height=\"32\" id=\"imageaa4627f8b6\" style=\"image-rendering:crisp-edges;image-rendering:pixelated\" transform=\"matrix(6.8125 0 0 6.8125 7.2 6.64)\" width=\"32\" xlink:href=\"data:image/png;base64,\r\niVBORw0KGgoAAAANSUhEUgAAACAAAAAgCAYAAABzenr0AAAAy0lEQVR4nO2XSw7DMAhEh6r3vzJdVXIkB2YcqKOobB3B8/BzDIBjo712BgeAt/KxOyeWmdE+DUQK2MArECHASmAVQkpB5HwG6+4pxCnAzGHk7HumqkZ3gVJYo2VA5W2ogm6fAy0Aigo0wNWWlAFWi64MYGasCopaIcCKCm1zYAxQWQ9ty+gQJFCSUuBqQUYXaB/FmUnbUIVgUvfMUfwHuAUAOzvSLhgddbRiiwJly0h1fLYnIuXkZ3n1w6S9C7K6obYhoN+85NfsF/YBIl1RMkszvzwAAAAASUVORK5CYII=\"/>\r\n   </g>\r\n  </g>\r\n </g>\r\n <defs>\r\n  <clipPath id=\"pe7b6629eee\">\r\n   <rect height=\"217.44\" width=\"217.44\" x=\"7.2\" y=\"7.2\"/>\r\n  </clipPath>\r\n </defs>\r\n</svg>\r\n",
      "image/png": "[encoded data removed]"
     },
     "metadata": {
      "needs_background": "light"
     }
    }
   ],
   "source": [
    "im_0 = np.asarray(Image.open('tests/test_9.bmp'))\n",
    "recognize(im_0)"
   ]
  },
  {
   "cell_type": "code",
   "execution_count": 6,
   "metadata": {},
   "outputs": [
    {
     "output_type": "display_data",
     "data": {
      "text/plain": "<Figure size 432x288 with 10 Axes>",
      "image/svg+xml": "<?xml version=\"1.0\" encoding=\"utf-8\" standalone=\"no\"?>\r\n<!DOCTYPE svg PUBLIC \"-//W3C//DTD SVG 1.1//EN\"\r\n  \"http://www.w3.org/Graphics/SVG/1.1/DTD/svg11.dtd\">\r\n<!-- Created with matplotlib (https://matplotlib.org/) -->\r\n<svg height=\"229.002012pt\" version=\"1.1\" viewBox=\"0 0 424.8 229.002012\" width=\"424.8pt\" xmlns=\"http://www.w3.org/2000/svg\" xmlns:xlink=\"http://www.w3.org/1999/xlink\">\r\n <metadata>\r\n  <rdf:RDF xmlns:cc=\"http://creativecommons.org/ns#\" xmlns:dc=\"http://purl.org/dc/elements/1.1/\" xmlns:rdf=\"http://www.w3.org/1999/02/22-rdf-syntax-ns#\">\r\n   <cc:Work>\r\n    <dc:type rdf:resource=\"http://purl.org/dc/dcmitype/StillImage\"/>\r\n    <dc:date>2020-10-12T19:21:06.564357</dc:date>\r\n    <dc:format>image/svg+xml</dc:format>\r\n    <dc:creator>\r\n     <cc:Agent>\r\n      <dc:title>Matplotlib v3.3.2, https://matplotlib.org/</dc:title>\r\n     </cc:Agent>\r\n    </dc:creator>\r\n   </cc:Work>\r\n  </rdf:RDF>\r\n </metadata>\r\n <defs>\r\n  <style type=\"text/css\">*{stroke-linecap:butt;stroke-linejoin:round;}</style>\r\n </defs>\r\n <g id=\"figure_1\">\r\n  <g id=\"patch_1\">\r\n   <path d=\"M 0 229.002012 \r\nL 424.8 229.002012 \r\nL 424.8 0 \r\nL 0 0 \r\nz\r\n\" style=\"fill:none;\"/>\r\n  </g>\r\n  <g id=\"axes_1\">\r\n   <g clip-path=\"url(#pea4b4f9d9d)\">\r\n    <image height=\"32\" id=\"image855527dfee\" style=\"image-rendering:crisp-edges;image-rendering:pixelated\" transform=\"matrix(2.3125 0 0 2.3125 7.2 21.758125)\" width=\"32\" xlink:href=\"data:image/png;base64,\r\niVBORw0KGgoAAAANSUhEUgAAACAAAAAgCAYAAABzenr0AAABa0lEQVR4nMWXUZrDIAiEab/eiDuZM+mdPNPuE/0IDgJNdzNPbWKZ39FG8iCiH7pRzzvNiYhe1R8wMzGze3/OSXPO7wKIoZjvAMYYb5CMHhTsAWu6MxdJCgKzU7gHkLlNASUTJSXaJtBaexdprRHReY3lswZg5tP9McZ2OdwEEL0Y2sJe5Mx8mkQJwEJoc/tdz/A4jqXGRwASuQUgIri5PCA0mRDADq7+t8cYEBJBpACq0stka9raC8Au+iswWhoifA7YAhUYlITVbYeRpPBEF0WZR2lWXgr/mgCCcAGubLyK/jSBzN85BXD1uXAZ4BNlodOHUbWwlRzbJQBkmtmc9mm60wJgDaozRscvmr34lBqSaGzWXAsC6FZLJLF6xaTzsX1hpFNbjmh1r9d7X05Hvd527b1+UF9z3wtkEALqvS/jZZzumiJzCKCNUUOBoKy8lg0pTEAvS8U4e5KGb0Yir7vNxPwVAAR0xVj0C4aDBOuGk9P3AAAAAElFTkSuQmCC\"/>\r\n   </g>\r\n   <g id=\"text_1\">\r\n    <!-- Core 0 -->\r\n    <g transform=\"translate(24.31125 16.318125)scale(0.12 -0.12)\">\r\n     <defs>\r\n      <path d=\"M 64.40625 67.28125 \r\nL 64.40625 56.890625 \r\nQ 59.421875 61.53125 53.78125 63.8125 \r\nQ 48.140625 66.109375 41.796875 66.109375 \r\nQ 29.296875 66.109375 22.65625 58.46875 \r\nQ 16.015625 50.828125 16.015625 36.375 \r\nQ 16.015625 21.96875 22.65625 14.328125 \r\nQ 29.296875 6.6875 41.796875 6.6875 \r\nQ 48.140625 6.6875 53.78125 8.984375 \r\nQ 59.421875 11.28125 64.40625 15.921875 \r\nL 64.40625 5.609375 \r\nQ 59.234375 2.09375 53.4375 0.328125 \r\nQ 47.65625 -1.421875 41.21875 -1.421875 \r\nQ 24.65625 -1.421875 15.125 8.703125 \r\nQ 5.609375 18.84375 5.609375 36.375 \r\nQ 5.609375 53.953125 15.125 64.078125 \r\nQ 24.65625 74.21875 41.21875 74.21875 \r\nQ 47.75 74.21875 53.53125 72.484375 \r\nQ 59.328125 70.75 64.40625 67.28125 \r\nz\r\n\" id=\"DejaVuSans-67\"/>\r\n      <path d=\"M 30.609375 48.390625 \r\nQ 23.390625 48.390625 19.1875 42.75 \r\nQ 14.984375 37.109375 14.984375 27.296875 \r\nQ 14.984375 17.484375 19.15625 11.84375 \r\nQ 23.34375 6.203125 30.609375 6.203125 \r\nQ 37.796875 6.203125 41.984375 11.859375 \r\nQ 46.1875 17.53125 46.1875 27.296875 \r\nQ 46.1875 37.015625 41.984375 42.703125 \r\nQ 37.796875 48.390625 30.609375 48.390625 \r\nz\r\nM 30.609375 56 \r\nQ 42.328125 56 49.015625 48.375 \r\nQ 55.71875 40.765625 55.71875 27.296875 \r\nQ 55.71875 13.875 49.015625 6.21875 \r\nQ 42.328125 -1.421875 30.609375 -1.421875 \r\nQ 18.84375 -1.421875 12.171875 6.21875 \r\nQ 5.515625 13.875 5.515625 27.296875 \r\nQ 5.515625 40.765625 12.171875 48.375 \r\nQ 18.84375 56 30.609375 56 \r\nz\r\n\" id=\"DejaVuSans-111\"/>\r\n      <path d=\"M 41.109375 46.296875 \r\nQ 39.59375 47.171875 37.8125 47.578125 \r\nQ 36.03125 48 33.890625 48 \r\nQ 26.265625 48 22.1875 43.046875 \r\nQ 18.109375 38.09375 18.109375 28.8125 \r\nL 18.109375 0 \r\nL 9.078125 0 \r\nL 9.078125 54.6875 \r\nL 18.109375 54.6875 \r\nL 18.109375 46.1875 \r\nQ 20.953125 51.171875 25.484375 53.578125 \r\nQ 30.03125 56 36.53125 56 \r\nQ 37.453125 56 38.578125 55.875 \r\nQ 39.703125 55.765625 41.0625 55.515625 \r\nz\r\n\" id=\"DejaVuSans-114\"/>\r\n      <path d=\"M 56.203125 29.59375 \r\nL 56.203125 25.203125 \r\nL 14.890625 25.203125 \r\nQ 15.484375 15.921875 20.484375 11.0625 \r\nQ 25.484375 6.203125 34.421875 6.203125 \r\nQ 39.59375 6.203125 44.453125 7.46875 \r\nQ 49.3125 8.734375 54.109375 11.28125 \r\nL 54.109375 2.78125 \r\nQ 49.265625 0.734375 44.1875 -0.34375 \r\nQ 39.109375 -1.421875 33.890625 -1.421875 \r\nQ 20.796875 -1.421875 13.15625 6.1875 \r\nQ 5.515625 13.8125 5.515625 26.8125 \r\nQ 5.515625 40.234375 12.765625 48.109375 \r\nQ 20.015625 56 32.328125 56 \r\nQ 43.359375 56 49.78125 48.890625 \r\nQ 56.203125 41.796875 56.203125 29.59375 \r\nz\r\nM 47.21875 32.234375 \r\nQ 47.125 39.59375 43.09375 43.984375 \r\nQ 39.0625 48.390625 32.421875 48.390625 \r\nQ 24.90625 48.390625 20.390625 44.140625 \r\nQ 15.875 39.890625 15.1875 32.171875 \r\nz\r\n\" id=\"DejaVuSans-101\"/>\r\n      <path id=\"DejaVuSans-32\"/>\r\n      <path d=\"M 31.78125 66.40625 \r\nQ 24.171875 66.40625 20.328125 58.90625 \r\nQ 16.5 51.421875 16.5 36.375 \r\nQ 16.5 21.390625 20.328125 13.890625 \r\nQ 24.171875 6.390625 31.78125 6.390625 \r\nQ 39.453125 6.390625 43.28125 13.890625 \r\nQ 47.125 21.390625 47.125 36.375 \r\nQ 47.125 51.421875 43.28125 58.90625 \r\nQ 39.453125 66.40625 31.78125 66.40625 \r\nz\r\nM 31.78125 74.21875 \r\nQ 44.046875 74.21875 50.515625 64.515625 \r\nQ 56.984375 54.828125 56.984375 36.375 \r\nQ 56.984375 17.96875 50.515625 8.265625 \r\nQ 44.046875 -1.421875 31.78125 -1.421875 \r\nQ 19.53125 -1.421875 13.0625 8.265625 \r\nQ 6.59375 17.96875 6.59375 36.375 \r\nQ 6.59375 54.828125 13.0625 64.515625 \r\nQ 19.53125 74.21875 31.78125 74.21875 \r\nz\r\n\" id=\"DejaVuSans-48\"/>\r\n     </defs>\r\n     <use xlink:href=\"#DejaVuSans-67\"/>\r\n     <use x=\"69.824219\" xlink:href=\"#DejaVuSans-111\"/>\r\n     <use x=\"131.005859\" xlink:href=\"#DejaVuSans-114\"/>\r\n     <use x=\"169.869141\" xlink:href=\"#DejaVuSans-101\"/>\r\n     <use x=\"231.392578\" xlink:href=\"#DejaVuSans-32\"/>\r\n     <use x=\"263.179688\" xlink:href=\"#DejaVuSans-48\"/>\r\n    </g>\r\n   </g>\r\n  </g>\r\n  <g id=\"axes_2\">\r\n   <g clip-path=\"url(#p2414fa325b)\">\r\n    <image height=\"32\" id=\"imagea7452e8a31\" style=\"image-rendering:crisp-edges;image-rendering:pixelated\" transform=\"matrix(2.3125 0 0 2.3125 91.44 21.758125)\" width=\"32\" xlink:href=\"data:image/png;base64,\r\niVBORw0KGgoAAAANSUhEUgAAACAAAAAgCAYAAABzenr0AAAAuklEQVR4nO2X0Q3DIAxEL1U3up1gJjMTzOR+JSJpP4pNQW05CYmfcM/nSJgNgGKibjPNAeDu+ZjksS+lmM4wJ1Cbe6Wti6SKiOacVVU1hNB8xr6aW0ASJBFCsJdcqakFtXkpxdx3E8C18h7mTQAATuYppbEAInIyrxPwpPHWT0jyMIkxms3MAACeqh4K8AnjXdPvggWwABbAAvgNAM98+N0JDB3JXqnHaO56mPRIwA3gnQ83/PvjdDrAAxsRZLwC9ZMHAAAAAElFTkSuQmCC\"/>\r\n   </g>\r\n   <g id=\"text_2\">\r\n    <!-- Core 1 -->\r\n    <g transform=\"translate(108.55125 16.318125)scale(0.12 -0.12)\">\r\n     <defs>\r\n      <path d=\"M 12.40625 8.296875 \r\nL 28.515625 8.296875 \r\nL 28.515625 63.921875 \r\nL 10.984375 60.40625 \r\nL 10.984375 69.390625 \r\nL 28.421875 72.90625 \r\nL 38.28125 72.90625 \r\nL 38.28125 8.296875 \r\nL 54.390625 8.296875 \r\nL 54.390625 0 \r\nL 12.40625 0 \r\nz\r\n\" id=\"DejaVuSans-49\"/>\r\n     </defs>\r\n     <use xlink:href=\"#DejaVuSans-67\"/>\r\n     <use x=\"69.824219\" xlink:href=\"#DejaVuSans-111\"/>\r\n     <use x=\"131.005859\" xlink:href=\"#DejaVuSans-114\"/>\r\n     <use x=\"169.869141\" xlink:href=\"#DejaVuSans-101\"/>\r\n     <use x=\"231.392578\" xlink:href=\"#DejaVuSans-32\"/>\r\n     <use x=\"263.179688\" xlink:href=\"#DejaVuSans-49\"/>\r\n    </g>\r\n   </g>\r\n  </g>\r\n  <g id=\"axes_3\">\r\n   <g clip-path=\"url(#p05da6c842e)\">\r\n    <image height=\"32\" id=\"image840f05be24\" style=\"image-rendering:crisp-edges;image-rendering:pixelated\" transform=\"matrix(2.3125 0 0 2.3125 175.68 21.758125)\" width=\"32\" xlink:href=\"data:image/png;base64,\r\niVBORw0KGgoAAAANSUhEUgAAACAAAAAgCAYAAABzenr0AAABa0lEQVR4nMWXXRLCMAiEV8cb5U7tmcKdOJM+ODhIICFpqzzZH7NftlDoDcATf4xH9sZSSvc6My8B3DBwQAtHEFZ8BqbrQCmlEZVje56Zv4SzEKED27Y1xyIqi3uO7PvuAk0BaHERtrtj5i83NAwRgYhSAKkkJCKUUppF5byACvgoYbsA+s+yIDODiD6/dcixwGhXMg7cowv6ectCvQWzgmkAHbPWzoC4AHqBrKhXspkIk3CmpnXVZMtvCKCFRwt6u5ekHUXzCHpi3jX7wpoN14GsjbbkViohVQU9AAuh3xmXAkSl+RMHpD/YBjVbAUsAYrvtjEA+8w8B6F1LMPOnDV8KUGt1xVd2Pg3giQNI9/0ohvNArRVAW/PAe/o5It4FsFmuxcX2o+JAMJJ54hJnigOBA1Fr1cJnzQbDHOgNnxkQb5jV51ND6WyHzITkU9gN9Y1nhQcbfphEX0AR0MrLiJnH34ZXx6F54Ix4AZ0tA/j3COpkAAAAAElFTkSuQmCC\"/>\r\n   </g>\r\n   <g id=\"text_3\">\r\n    <!-- Core 2 -->\r\n    <g transform=\"translate(192.79125 16.318125)scale(0.12 -0.12)\">\r\n     <defs>\r\n      <path d=\"M 19.1875 8.296875 \r\nL 53.609375 8.296875 \r\nL 53.609375 0 \r\nL 7.328125 0 \r\nL 7.328125 8.296875 \r\nQ 12.9375 14.109375 22.625 23.890625 \r\nQ 32.328125 33.6875 34.8125 36.53125 \r\nQ 39.546875 41.84375 41.421875 45.53125 \r\nQ 43.3125 49.21875 43.3125 52.78125 \r\nQ 43.3125 58.59375 39.234375 62.25 \r\nQ 35.15625 65.921875 28.609375 65.921875 \r\nQ 23.96875 65.921875 18.8125 64.3125 \r\nQ 13.671875 62.703125 7.8125 59.421875 \r\nL 7.8125 69.390625 \r\nQ 13.765625 71.78125 18.9375 73 \r\nQ 24.125 74.21875 28.421875 74.21875 \r\nQ 39.75 74.21875 46.484375 68.546875 \r\nQ 53.21875 62.890625 53.21875 53.421875 \r\nQ 53.21875 48.921875 51.53125 44.890625 \r\nQ 49.859375 40.875 45.40625 35.40625 \r\nQ 44.1875 33.984375 37.640625 27.21875 \r\nQ 31.109375 20.453125 19.1875 8.296875 \r\nz\r\n\" id=\"DejaVuSans-50\"/>\r\n     </defs>\r\n     <use xlink:href=\"#DejaVuSans-67\"/>\r\n     <use x=\"69.824219\" xlink:href=\"#DejaVuSans-111\"/>\r\n     <use x=\"131.005859\" xlink:href=\"#DejaVuSans-114\"/>\r\n     <use x=\"169.869141\" xlink:href=\"#DejaVuSans-101\"/>\r\n     <use x=\"231.392578\" xlink:href=\"#DejaVuSans-32\"/>\r\n     <use x=\"263.179688\" xlink:href=\"#DejaVuSans-50\"/>\r\n    </g>\r\n   </g>\r\n  </g>\r\n  <g id=\"axes_4\">\r\n   <g clip-path=\"url(#p0a3af3e4f4)\">\r\n    <image height=\"32\" id=\"image3523debc59\" style=\"image-rendering:crisp-edges;image-rendering:pixelated\" transform=\"matrix(2.3125 0 0 2.3125 259.92 21.758125)\" width=\"32\" xlink:href=\"data:image/png;base64,\r\niVBORw0KGgoAAAANSUhEUgAAACAAAAAgCAYAAABzenr0AAABZ0lEQVR4nMVXba4DIQikL70Rd8Iz6Z04k/3lZkpVYD/yJjHZbtUZYVT2RUSd/hHv7AARIWae/qeqx3NrLTTfi4IRYGYSkeN5BSSOiuheE5Fea+1R1Fq7iHRmdud2UzBCPlaPKKV8RQP7MDMxM7XWvlJjsU0BM1Ot9SfkOKmqHmRjzHhv+87gRgDJVfVomF9VDfnjlACEqlIpxe2TwZ832WrVO+JMFNwI2FB7sCm7VcCOFBsSeyK2KcgAd0IG6aN4RYqrx/aIAHsoze6HRwUMYN4teRSnPGBNZ8kzXrhkwlmus0a8vAusiBGVXd1wqwArBEVEBJwyob0PLNlsa65wSwTGPZE1YEhAJpyrC2s3dpsCrISwANn1j/YNC8DSCmEnP3MPuAI8cavfVvAlE0a2Vsb1FqEIzMI93mEtmCUPC0DiQTIr02fm8wRtBazO+J3hUESkmgoL8IjPfJIRJb8NI8h6ICzgKXwA2Zc8Iq2lDNAAAAAASUVORK5CYII=\"/>\r\n   </g>\r\n   <g id=\"text_4\">\r\n    <!-- Core 3 -->\r\n    <g transform=\"translate(277.03125 16.318125)scale(0.12 -0.12)\">\r\n     <defs>\r\n      <path d=\"M 40.578125 39.3125 \r\nQ 47.65625 37.796875 51.625 33 \r\nQ 55.609375 28.21875 55.609375 21.1875 \r\nQ 55.609375 10.40625 48.1875 4.484375 \r\nQ 40.765625 -1.421875 27.09375 -1.421875 \r\nQ 22.515625 -1.421875 17.65625 -0.515625 \r\nQ 12.796875 0.390625 7.625 2.203125 \r\nL 7.625 11.71875 \r\nQ 11.71875 9.328125 16.59375 8.109375 \r\nQ 21.484375 6.890625 26.8125 6.890625 \r\nQ 36.078125 6.890625 40.9375 10.546875 \r\nQ 45.796875 14.203125 45.796875 21.1875 \r\nQ 45.796875 27.640625 41.28125 31.265625 \r\nQ 36.765625 34.90625 28.71875 34.90625 \r\nL 20.21875 34.90625 \r\nL 20.21875 43.015625 \r\nL 29.109375 43.015625 \r\nQ 36.375 43.015625 40.234375 45.921875 \r\nQ 44.09375 48.828125 44.09375 54.296875 \r\nQ 44.09375 59.90625 40.109375 62.90625 \r\nQ 36.140625 65.921875 28.71875 65.921875 \r\nQ 24.65625 65.921875 20.015625 65.03125 \r\nQ 15.375 64.15625 9.8125 62.3125 \r\nL 9.8125 71.09375 \r\nQ 15.4375 72.65625 20.34375 73.4375 \r\nQ 25.25 74.21875 29.59375 74.21875 \r\nQ 40.828125 74.21875 47.359375 69.109375 \r\nQ 53.90625 64.015625 53.90625 55.328125 \r\nQ 53.90625 49.265625 50.4375 45.09375 \r\nQ 46.96875 40.921875 40.578125 39.3125 \r\nz\r\n\" id=\"DejaVuSans-51\"/>\r\n     </defs>\r\n     <use xlink:href=\"#DejaVuSans-67\"/>\r\n     <use x=\"69.824219\" xlink:href=\"#DejaVuSans-111\"/>\r\n     <use x=\"131.005859\" xlink:href=\"#DejaVuSans-114\"/>\r\n     <use x=\"169.869141\" xlink:href=\"#DejaVuSans-101\"/>\r\n     <use x=\"231.392578\" xlink:href=\"#DejaVuSans-32\"/>\r\n     <use x=\"263.179688\" xlink:href=\"#DejaVuSans-51\"/>\r\n    </g>\r\n   </g>\r\n  </g>\r\n  <g id=\"axes_5\">\r\n   <g clip-path=\"url(#p6d6cbfcf4f)\">\r\n    <image height=\"32\" id=\"imagebde2de9560\" style=\"image-rendering:crisp-edges;image-rendering:pixelated\" transform=\"matrix(2.3125 0 0 2.3125 344.16 21.758125)\" width=\"32\" xlink:href=\"data:image/png;base64,\r\niVBORw0KGgoAAAANSUhEUgAAACAAAAAgCAYAAABzenr0AAAA/UlEQVR4nO2XQRLDIAhFSac34k4cyjt5pnaF41iRTzS66V85GcEXQEguIvrQQb1OHk5E9O49ZOayzjnvB+iBoDAiUtYppTmAGoKZi0MPpLbx9oYAULVRGEEMi/BOLdQ2CDR0CyJvH9kLA8zIi9zyFEQOHwJYxec5jYK6AFHHy2qAmcPO7ggqQn37J9qyC4B0M0uIndsJ1VHtbGVq3GloHdi7JW3dMDOJyHAoQREYFeRsNGAAS7OpMYtQ846OXqLfyaf2owh2I6BG7eFIF1RbVCYA8jXTUzQNZg2sajpT03CHHgWYGse79Ac4DgC14oii13c5QEop1IwuOvx7/gVtT38lQ8FLhwAAAABJRU5ErkJggg==\"/>\r\n   </g>\r\n   <g id=\"text_5\">\r\n    <!-- Core 4 -->\r\n    <g transform=\"translate(361.27125 16.318125)scale(0.12 -0.12)\">\r\n     <defs>\r\n      <path d=\"M 37.796875 64.3125 \r\nL 12.890625 25.390625 \r\nL 37.796875 25.390625 \r\nz\r\nM 35.203125 72.90625 \r\nL 47.609375 72.90625 \r\nL 47.609375 25.390625 \r\nL 58.015625 25.390625 \r\nL 58.015625 17.1875 \r\nL 47.609375 17.1875 \r\nL 47.609375 0 \r\nL 37.796875 0 \r\nL 37.796875 17.1875 \r\nL 4.890625 17.1875 \r\nL 4.890625 26.703125 \r\nz\r\n\" id=\"DejaVuSans-52\"/>\r\n     </defs>\r\n     <use xlink:href=\"#DejaVuSans-67\"/>\r\n     <use x=\"69.824219\" xlink:href=\"#DejaVuSans-111\"/>\r\n     <use x=\"131.005859\" xlink:href=\"#DejaVuSans-114\"/>\r\n     <use x=\"169.869141\" xlink:href=\"#DejaVuSans-101\"/>\r\n     <use x=\"231.392578\" xlink:href=\"#DejaVuSans-32\"/>\r\n     <use x=\"263.179688\" xlink:href=\"#DejaVuSans-52\"/>\r\n    </g>\r\n   </g>\r\n  </g>\r\n  <g id=\"axes_6\">\r\n   <g clip-path=\"url(#pa89ab57494)\">\r\n    <image height=\"32\" id=\"image85a2bea162\" style=\"image-rendering:crisp-edges;image-rendering:pixelated\" transform=\"matrix(2.3125 0 0 2.3125 7.2 147.802012)\" width=\"32\" xlink:href=\"data:image/png;base64,\r\niVBORw0KGgoAAAANSUhEUgAAACAAAAAgCAYAAABzenr0AAABOklEQVR4nM1XW47DQAhzqr0RdyJnytyJM+1+UVE0BObRbS1Vkdpk7PEYQg8Av/ggHp8kB4Cf7AYiml5cRNYEENHLZxSttaeISEzpCFZcyDCUAb+LzKGK8DQDdjERgYigtVZ9LM3Bd1eBiDx33rOzkvIlARHRDmLF0BG8oxrKIfTwYmZdSR3oLRyV3EzDGnaAiHBdV/c3LVENbgVby5CIwMxg5rITZQe0Cd2R61VEwMw4z3OPgKj7aX/w5P66LEDJou+VzFpfFbAtA94lZi49lzpQSbMNnG3blSBucSAL6NsFKGa64xYBGsAqqcXQQKKwJFELrg4toYAeoQ1XFDA7OS0J8ItmL5rIoWUBftfeDYtsBO/hQPDXbKSWe6KqxxA60BvBI6wMJ6VOeEd+947YImBksZn7wwz8F/4Agpu/JyTnwOEAAAAASUVORK5CYII=\"/>\r\n   </g>\r\n   <g id=\"text_6\">\r\n    <!-- Core 5 -->\r\n    <g transform=\"translate(24.31125 142.362012)scale(0.12 -0.12)\">\r\n     <defs>\r\n      <path d=\"M 10.796875 72.90625 \r\nL 49.515625 72.90625 \r\nL 49.515625 64.59375 \r\nL 19.828125 64.59375 \r\nL 19.828125 46.734375 \r\nQ 21.96875 47.46875 24.109375 47.828125 \r\nQ 26.265625 48.1875 28.421875 48.1875 \r\nQ 40.625 48.1875 47.75 41.5 \r\nQ 54.890625 34.8125 54.890625 23.390625 \r\nQ 54.890625 11.625 47.5625 5.09375 \r\nQ 40.234375 -1.421875 26.90625 -1.421875 \r\nQ 22.3125 -1.421875 17.546875 -0.640625 \r\nQ 12.796875 0.140625 7.71875 1.703125 \r\nL 7.71875 11.625 \r\nQ 12.109375 9.234375 16.796875 8.0625 \r\nQ 21.484375 6.890625 26.703125 6.890625 \r\nQ 35.15625 6.890625 40.078125 11.328125 \r\nQ 45.015625 15.765625 45.015625 23.390625 \r\nQ 45.015625 31 40.078125 35.4375 \r\nQ 35.15625 39.890625 26.703125 39.890625 \r\nQ 22.75 39.890625 18.8125 39.015625 \r\nQ 14.890625 38.140625 10.796875 36.28125 \r\nz\r\n\" id=\"DejaVuSans-53\"/>\r\n     </defs>\r\n     <use xlink:href=\"#DejaVuSans-67\"/>\r\n     <use x=\"69.824219\" xlink:href=\"#DejaVuSans-111\"/>\r\n     <use x=\"131.005859\" xlink:href=\"#DejaVuSans-114\"/>\r\n     <use x=\"169.869141\" xlink:href=\"#DejaVuSans-101\"/>\r\n     <use x=\"231.392578\" xlink:href=\"#DejaVuSans-32\"/>\r\n     <use x=\"263.179688\" xlink:href=\"#DejaVuSans-53\"/>\r\n    </g>\r\n   </g>\r\n  </g>\r\n  <g id=\"axes_7\">\r\n   <g clip-path=\"url(#p0f5ace663c)\">\r\n    <image height=\"32\" id=\"image9ef8c8542c\" style=\"image-rendering:crisp-edges;image-rendering:pixelated\" transform=\"matrix(2.3125 0 0 2.3125 91.44 147.802012)\" width=\"32\" xlink:href=\"data:image/png;base64,\r\niVBORw0KGgoAAAANSUhEUgAAACAAAAAgCAYAAABzenr0AAABc0lEQVR4nMWXYc7DIAiG3ZfdiDt5JziTnMnvFw2jIGjWjKRZYi3vI6iwV2ttth/a+/RDAHDHmfkZAABovfd0HjNfEFWYmT0AMBFxjjFmxcYYc4wxe++p7xRgV9yCAMDS/zIFEnYAuOXchjfaEwCwTMUSQHKunWf5tSARWAkgckBENxCJkkSsaiGA54iZL3Ebgd2dL/YXvRBx+dUCkYgGrFoYAS+MFccCWIUII+AJVx3rOdn8rau4uqqvR+BJ+znAVgoQMQ3t14qRFBR7t+8Wo6wWbAGcGCIuIY5OARHd7omoV5Dx6IIqAegPiega8857tXFJAZj5Y5V2BasNRkQfEKvitJUCqe2euFecKlWxfA/YohRZVfgY4GTeCjoF0CvKIPQGrAKHAFHPh4iucy2uN+BxNZTNpsX06uQ4WkBP/Lgp1Y40CAA0RHTfReIRxDIFdpWeZeKZn1dL/pxKt6uflVnxrDlJUxBdt57tNqStFSLwtP0DFhQ72WIbKOUAAAAASUVORK5CYII=\"/>\r\n   </g>\r\n   <g id=\"text_7\">\r\n    <!-- Core 6 -->\r\n    <g transform=\"translate(108.55125 142.362012)scale(0.12 -0.12)\">\r\n     <defs>\r\n      <path d=\"M 33.015625 40.375 \r\nQ 26.375 40.375 22.484375 35.828125 \r\nQ 18.609375 31.296875 18.609375 23.390625 \r\nQ 18.609375 15.53125 22.484375 10.953125 \r\nQ 26.375 6.390625 33.015625 6.390625 \r\nQ 39.65625 6.390625 43.53125 10.953125 \r\nQ 47.40625 15.53125 47.40625 23.390625 \r\nQ 47.40625 31.296875 43.53125 35.828125 \r\nQ 39.65625 40.375 33.015625 40.375 \r\nz\r\nM 52.59375 71.296875 \r\nL 52.59375 62.3125 \r\nQ 48.875 64.0625 45.09375 64.984375 \r\nQ 41.3125 65.921875 37.59375 65.921875 \r\nQ 27.828125 65.921875 22.671875 59.328125 \r\nQ 17.53125 52.734375 16.796875 39.40625 \r\nQ 19.671875 43.65625 24.015625 45.921875 \r\nQ 28.375 48.1875 33.59375 48.1875 \r\nQ 44.578125 48.1875 50.953125 41.515625 \r\nQ 57.328125 34.859375 57.328125 23.390625 \r\nQ 57.328125 12.15625 50.6875 5.359375 \r\nQ 44.046875 -1.421875 33.015625 -1.421875 \r\nQ 20.359375 -1.421875 13.671875 8.265625 \r\nQ 6.984375 17.96875 6.984375 36.375 \r\nQ 6.984375 53.65625 15.1875 63.9375 \r\nQ 23.390625 74.21875 37.203125 74.21875 \r\nQ 40.921875 74.21875 44.703125 73.484375 \r\nQ 48.484375 72.75 52.59375 71.296875 \r\nz\r\n\" id=\"DejaVuSans-54\"/>\r\n     </defs>\r\n     <use xlink:href=\"#DejaVuSans-67\"/>\r\n     <use x=\"69.824219\" xlink:href=\"#DejaVuSans-111\"/>\r\n     <use x=\"131.005859\" xlink:href=\"#DejaVuSans-114\"/>\r\n     <use x=\"169.869141\" xlink:href=\"#DejaVuSans-101\"/>\r\n     <use x=\"231.392578\" xlink:href=\"#DejaVuSans-32\"/>\r\n     <use x=\"263.179688\" xlink:href=\"#DejaVuSans-54\"/>\r\n    </g>\r\n   </g>\r\n  </g>\r\n  <g id=\"axes_8\">\r\n   <g clip-path=\"url(#p77f7c82dd5)\">\r\n    <image height=\"32\" id=\"image21e89504e8\" style=\"image-rendering:crisp-edges;image-rendering:pixelated\" transform=\"matrix(2.3125 0 0 2.3125 175.68 147.802012)\" width=\"32\" xlink:href=\"data:image/png;base64,\r\niVBORw0KGgoAAAANSUhEUgAAACAAAAAgCAYAAABzenr0AAABfklEQVR4nO1WW27EIAycrXoacx44T3KdcB5znfajMnIsAiak2n50pNVmH2GGYWznBeALb8THO8n/BfwJAZ+tL4kIIYTlxZm5XpdS/AIsWmJk8dFvWsS0gBhj89qDUgq2bRv+rylA7AohgIgAADlnF7E4wsxVdM+FyxCuZsB7f/cIRLndgf0sjsUYKzERuVy7FGDJr1Is0JUjxzYKYFfAiPAKzAwiOt3fW+uRRkRESCmdXBD7Ry482gmFfMY9twAiqi+LlFItOQkfM4OZh2KGjcgGq5RSFwd+dq2blBB6AggAL3QeSFoCLHS96/DJ7pm5W46uWeAZTiJQv1sxLXQdsAJ0axaMHMo511cLU9NQzlUEadJ935v3Lk1Du4g9b4FO/SxcAoRcBGghOecathaWylCTA+cRK6SWfLaFDxuRfSixedDXd+aH2wF95prwOI7b5MDkLNDPeNr6u+SAwwFdepb8TuotXI1IBOj0P7F7YKIMLVaJBVMOPE0+JeC38A1XfvvRbunAegAAAABJRU5ErkJggg==\"/>\r\n   </g>\r\n   <g id=\"text_8\">\r\n    <!-- Core 7 -->\r\n    <g transform=\"translate(192.79125 142.362012)scale(0.12 -0.12)\">\r\n     <defs>\r\n      <path d=\"M 8.203125 72.90625 \r\nL 55.078125 72.90625 \r\nL 55.078125 68.703125 \r\nL 28.609375 0 \r\nL 18.3125 0 \r\nL 43.21875 64.59375 \r\nL 8.203125 64.59375 \r\nz\r\n\" id=\"DejaVuSans-55\"/>\r\n     </defs>\r\n     <use xlink:href=\"#DejaVuSans-67\"/>\r\n     <use x=\"69.824219\" xlink:href=\"#DejaVuSans-111\"/>\r\n     <use x=\"131.005859\" xlink:href=\"#DejaVuSans-114\"/>\r\n     <use x=\"169.869141\" xlink:href=\"#DejaVuSans-101\"/>\r\n     <use x=\"231.392578\" xlink:href=\"#DejaVuSans-32\"/>\r\n     <use x=\"263.179688\" xlink:href=\"#DejaVuSans-55\"/>\r\n    </g>\r\n   </g>\r\n  </g>\r\n  <g id=\"axes_9\">\r\n   <g clip-path=\"url(#p8dcd43baa6)\">\r\n    <image height=\"32\" id=\"imagea496d811e1\" style=\"image-rendering:crisp-edges;image-rendering:pixelated\" transform=\"matrix(2.3125 0 0 2.3125 259.92 147.802012)\" width=\"32\" xlink:href=\"data:image/png;base64,\r\niVBORw0KGgoAAAANSUhEUgAAACAAAAAgCAYAAABzenr0AAABrklEQVR4nMVX2Y3EMAhlVtMRPZGa7JrsmrxfRDbmcjbSIkUzSoh5XA/yAYAB/yjfjBIiLr/aM5be+329AgARt8sTNnxdVxrEsC5EHEQ0nkprbRDRQETThgvAM95aG6WUUUoZrbXHINwURPnl31mvlGKepaXEBICIQEQbgFrrYlz7X0oJa4XlJ6XlGNf0ruta7nlgTABa+CPjmn4kRxHIHgoAd7ReAdB7T3HAE0kB8JjwL7ohgDmMHAHZGZpxAFA76AiAzOFMxRqI2XOLCzRxiYgLTwsrEUGtdbknjWeK1gXAUSCiBYTGatLruW1rrSaYcBrKKLBYoZaGoiiEXWB57OmzsOfeuy6AOfQAeXbjdzLk9QFjJeNqlwSkDSGtK/hZrdVlRbUGZMHNh3JRSS9le3LaohSaRTiHf/Zmrm45oHrvW9pmZywQ2xqGiMtGw9tPsFrdW9S8IUUbUXoYZafh6dRMD6PseGUQrwLQiMiTE8DpCJzuA1ndrQvYW+l1ppq1D5goHeE09D7HtMO9fUETkwmJaCOWU5Gz4Oi74LSdrPejbdqMAIBNyScAPOMAAL/BoBG6fstj9QAAAABJRU5ErkJggg==\"/>\r\n   </g>\r\n   <g id=\"text_9\">\r\n    <!-- Core 8 -->\r\n    <g transform=\"translate(277.03125 142.362012)scale(0.12 -0.12)\">\r\n     <defs>\r\n      <path d=\"M 31.78125 34.625 \r\nQ 24.75 34.625 20.71875 30.859375 \r\nQ 16.703125 27.09375 16.703125 20.515625 \r\nQ 16.703125 13.921875 20.71875 10.15625 \r\nQ 24.75 6.390625 31.78125 6.390625 \r\nQ 38.8125 6.390625 42.859375 10.171875 \r\nQ 46.921875 13.96875 46.921875 20.515625 \r\nQ 46.921875 27.09375 42.890625 30.859375 \r\nQ 38.875 34.625 31.78125 34.625 \r\nz\r\nM 21.921875 38.8125 \r\nQ 15.578125 40.375 12.03125 44.71875 \r\nQ 8.5 49.078125 8.5 55.328125 \r\nQ 8.5 64.0625 14.71875 69.140625 \r\nQ 20.953125 74.21875 31.78125 74.21875 \r\nQ 42.671875 74.21875 48.875 69.140625 \r\nQ 55.078125 64.0625 55.078125 55.328125 \r\nQ 55.078125 49.078125 51.53125 44.71875 \r\nQ 48 40.375 41.703125 38.8125 \r\nQ 48.828125 37.15625 52.796875 32.3125 \r\nQ 56.78125 27.484375 56.78125 20.515625 \r\nQ 56.78125 9.90625 50.3125 4.234375 \r\nQ 43.84375 -1.421875 31.78125 -1.421875 \r\nQ 19.734375 -1.421875 13.25 4.234375 \r\nQ 6.78125 9.90625 6.78125 20.515625 \r\nQ 6.78125 27.484375 10.78125 32.3125 \r\nQ 14.796875 37.15625 21.921875 38.8125 \r\nz\r\nM 18.3125 54.390625 \r\nQ 18.3125 48.734375 21.84375 45.5625 \r\nQ 25.390625 42.390625 31.78125 42.390625 \r\nQ 38.140625 42.390625 41.71875 45.5625 \r\nQ 45.3125 48.734375 45.3125 54.390625 \r\nQ 45.3125 60.0625 41.71875 63.234375 \r\nQ 38.140625 66.40625 31.78125 66.40625 \r\nQ 25.390625 66.40625 21.84375 63.234375 \r\nQ 18.3125 60.0625 18.3125 54.390625 \r\nz\r\n\" id=\"DejaVuSans-56\"/>\r\n     </defs>\r\n     <use xlink:href=\"#DejaVuSans-67\"/>\r\n     <use x=\"69.824219\" xlink:href=\"#DejaVuSans-111\"/>\r\n     <use x=\"131.005859\" xlink:href=\"#DejaVuSans-114\"/>\r\n     <use x=\"169.869141\" xlink:href=\"#DejaVuSans-101\"/>\r\n     <use x=\"231.392578\" xlink:href=\"#DejaVuSans-32\"/>\r\n     <use x=\"263.179688\" xlink:href=\"#DejaVuSans-56\"/>\r\n    </g>\r\n   </g>\r\n  </g>\r\n  <g id=\"axes_10\">\r\n   <g clip-path=\"url(#p94b76d297e)\">\r\n    <image height=\"32\" id=\"imaged175f46b1c\" style=\"image-rendering:crisp-edges;image-rendering:pixelated\" transform=\"matrix(2.3125 0 0 2.3125 344.16 147.802012)\" width=\"32\" xlink:href=\"data:image/png;base64,\r\niVBORw0KGgoAAAANSUhEUgAAACAAAAAgCAYAAABzenr0AAABZ0lEQVR4nMVX25GDMAxUMteRqcnUhHtSTZcvZXSKHisOJvuDxxhrvXpYPIjol76In+4Hx3G488xMRERrrdZ+DwIVmHPSGIOI6P20BIREhwhEQIx7hu2cEGFmiMTzjHE91qeWd2OMP4plSBWINtKntGtlLO+2bUsJpEHonUBktQRkbEnMOVNXhC7wAk6MWOMeOUHlipKANu5Jb7Hve7kGImBJoBtq40gQllnQMX7mm9sIRGl7isCdgAhkJThaiyKtA570YiByy2UEmPnj5HrOEpACJGOUCHQdWzLRxWTXIihjQFc/JLK7LggJeNepFJlMjS6Bsh+IMqByg8TEWivtDcoYkBPboIsyxJbvqoiVMYBK2pVe0G5KifwuyFNIB3AEKAt0m2URBSDalLYVQNKvUwvgQoRWt8sLEdFnKiJV0IsLDy0XeAZsZ3zpbWiNe/JmauhnhHZHVG3opV/2zb/qAEKmAvxzehdekocTwEZxp5gAAAAASUVORK5CYII=\"/>\r\n   </g>\r\n   <g id=\"text_10\">\r\n    <!-- Core 9 -->\r\n    <g transform=\"translate(361.27125 142.362012)scale(0.12 -0.12)\">\r\n     <defs>\r\n      <path d=\"M 10.984375 1.515625 \r\nL 10.984375 10.5 \r\nQ 14.703125 8.734375 18.5 7.8125 \r\nQ 22.3125 6.890625 25.984375 6.890625 \r\nQ 35.75 6.890625 40.890625 13.453125 \r\nQ 46.046875 20.015625 46.78125 33.40625 \r\nQ 43.953125 29.203125 39.59375 26.953125 \r\nQ 35.25 24.703125 29.984375 24.703125 \r\nQ 19.046875 24.703125 12.671875 31.3125 \r\nQ 6.296875 37.9375 6.296875 49.421875 \r\nQ 6.296875 60.640625 12.9375 67.421875 \r\nQ 19.578125 74.21875 30.609375 74.21875 \r\nQ 43.265625 74.21875 49.921875 64.515625 \r\nQ 56.59375 54.828125 56.59375 36.375 \r\nQ 56.59375 19.140625 48.40625 8.859375 \r\nQ 40.234375 -1.421875 26.421875 -1.421875 \r\nQ 22.703125 -1.421875 18.890625 -0.6875 \r\nQ 15.09375 0.046875 10.984375 1.515625 \r\nz\r\nM 30.609375 32.421875 \r\nQ 37.25 32.421875 41.125 36.953125 \r\nQ 45.015625 41.5 45.015625 49.421875 \r\nQ 45.015625 57.28125 41.125 61.84375 \r\nQ 37.25 66.40625 30.609375 66.40625 \r\nQ 23.96875 66.40625 20.09375 61.84375 \r\nQ 16.21875 57.28125 16.21875 49.421875 \r\nQ 16.21875 41.5 20.09375 36.953125 \r\nQ 23.96875 32.421875 30.609375 32.421875 \r\nz\r\n\" id=\"DejaVuSans-57\"/>\r\n     </defs>\r\n     <use xlink:href=\"#DejaVuSans-67\"/>\r\n     <use x=\"69.824219\" xlink:href=\"#DejaVuSans-111\"/>\r\n     <use x=\"131.005859\" xlink:href=\"#DejaVuSans-114\"/>\r\n     <use x=\"169.869141\" xlink:href=\"#DejaVuSans-101\"/>\r\n     <use x=\"231.392578\" xlink:href=\"#DejaVuSans-32\"/>\r\n     <use x=\"263.179688\" xlink:href=\"#DejaVuSans-57\"/>\r\n    </g>\r\n   </g>\r\n  </g>\r\n </g>\r\n <defs>\r\n  <clipPath id=\"pea4b4f9d9d\">\r\n   <rect height=\"73.44\" width=\"73.44\" x=\"7.2\" y=\"22.318125\"/>\r\n  </clipPath>\r\n  <clipPath id=\"p2414fa325b\">\r\n   <rect height=\"73.44\" width=\"73.44\" x=\"91.44\" y=\"22.318125\"/>\r\n  </clipPath>\r\n  <clipPath id=\"p05da6c842e\">\r\n   <rect height=\"73.44\" width=\"73.44\" x=\"175.68\" y=\"22.318125\"/>\r\n  </clipPath>\r\n  <clipPath id=\"p0a3af3e4f4\">\r\n   <rect height=\"73.44\" width=\"73.44\" x=\"259.92\" y=\"22.318125\"/>\r\n  </clipPath>\r\n  <clipPath id=\"p6d6cbfcf4f\">\r\n   <rect height=\"73.44\" width=\"73.44\" x=\"344.16\" y=\"22.318125\"/>\r\n  </clipPath>\r\n  <clipPath id=\"pa89ab57494\">\r\n   <rect height=\"73.44\" width=\"73.44\" x=\"7.2\" y=\"148.362012\"/>\r\n  </clipPath>\r\n  <clipPath id=\"p0f5ace663c\">\r\n   <rect height=\"73.44\" width=\"73.44\" x=\"91.44\" y=\"148.362012\"/>\r\n  </clipPath>\r\n  <clipPath id=\"p77f7c82dd5\">\r\n   <rect height=\"73.44\" width=\"73.44\" x=\"175.68\" y=\"148.362012\"/>\r\n  </clipPath>\r\n  <clipPath id=\"p8dcd43baa6\">\r\n   <rect height=\"73.44\" width=\"73.44\" x=\"259.92\" y=\"148.362012\"/>\r\n  </clipPath>\r\n  <clipPath id=\"p94b76d297e\">\r\n   <rect height=\"73.44\" width=\"73.44\" x=\"344.16\" y=\"148.362012\"/>\r\n  </clipPath>\r\n </defs>\r\n</svg>\r\n",
      "image/png": "[encoded data removed]"
     },
     "metadata": {
      "needs_background": "light"
     }
    }
   ],
   "source": [
    "width=2\n",
    "height=5\n",
    "axes=[]\n",
    "fig=plt.figure()\n",
    "\n",
    "for i in range(10):\n",
    "    image = core_dict[i]\n",
    "    axes.append( fig.add_subplot(width,height,i+1) )\n",
    "    subplot_title=(f'Core {i}')\n",
    "    axes[-1].set_title(subplot_title)\n",
    "    plt.axis('off')\n",
    "    plt.imshow(image,cmap='gray',interpolation='none')\n",
    "\n",
    "fig.tight_layout()    \n",
    "plt.show()"
   ]
  },
  {
   "cell_type": "code",
   "execution_count": null,
   "metadata": {},
   "outputs": [],
   "source": []
  }
 ]
}